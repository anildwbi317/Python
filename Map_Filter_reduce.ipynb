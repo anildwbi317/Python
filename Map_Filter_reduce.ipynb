{
 "cells": [
  {
   "cell_type": "code",
   "execution_count": 49,
   "metadata": {},
   "outputs": [],
   "source": [
    "in_list = \"This is a sentence to track words which are starting with a vowel\".split()"
   ]
  },
  {
   "cell_type": "code",
   "execution_count": 56,
   "metadata": {},
   "outputs": [
    {
     "name": "stdout",
     "output_type": "stream",
     "text": [
      "\n"
     ]
    }
   ],
   "source": [
    "#\n",
    "in_list\n",
    "print(\"\")"
   ]
  },
  {
   "cell_type": "code",
   "execution_count": 55,
   "metadata": {},
   "outputs": [
    {
     "name": "stdout",
     "output_type": "stream",
     "text": [
      "\n"
     ]
    }
   ],
   "source": [
    "#get a list of Booleans-if word starts with vowel then True else False\n",
    "\n",
    "def check_word(word):\n",
    "    return word[0].lower() in \"aeiou\"\n",
    "\n",
    "#check result\n",
    "out_list = []\n",
    "for w in in_list:\n",
    "    out_list.append(check_word(w))\n",
    "out_list\n",
    "print(\"\")"
   ]
  },
  {
   "cell_type": "code",
   "execution_count": 57,
   "metadata": {},
   "outputs": [
    {
     "name": "stdout",
     "output_type": "stream",
     "text": [
      "\n"
     ]
    }
   ],
   "source": [
    "#using list comprehension:\n",
    "[ word[0].lower() in \"aeiou\" for word in in_list ]\n",
    "print(\"\")"
   ]
  },
  {
   "cell_type": "code",
   "execution_count": 48,
   "metadata": {},
   "outputs": [
    {
     "data": {
      "text/plain": [
       "70"
      ]
     },
     "execution_count": 48,
     "metadata": {},
     "output_type": "execute_result"
    }
   ],
   "source": [
    "# using lambda:\n",
    "def test(x,y): \n",
    "    return x+y\n",
    "\n",
    "test = lambda x,y: x +y\n",
    "\n",
    "test(40,30)\n"
   ]
  },
  {
   "cell_type": "code",
   "execution_count": 58,
   "metadata": {},
   "outputs": [],
   "source": [
    "def filter_word(word):\n",
    "    return word[0].lower() in 'aeiou'        "
   ]
  },
  {
   "cell_type": "code",
   "execution_count": 35,
   "metadata": {},
   "outputs": [],
   "source": [
    "# def check_word(word): return word[0].lower() in \"aeiou\"\n",
    "\n",
    "# transform function to lambda \n",
    "\n",
    "#check_word = lambda word:  word[0].lower() in \"aeiou\"\n",
    "\n",
    "#list( map(lambda word:  word[0].lower() in \"aeiou\", in_list) )"
   ]
  },
  {
   "cell_type": "code",
   "execution_count": 59,
   "metadata": {},
   "outputs": [
    {
     "name": "stdout",
     "output_type": "stream",
     "text": [
      "Let us use list comprehension to filter words with vowels\n",
      "['is', 'a', 'are', 'a']\n",
      "Let us use function to filter words with vowels \n",
      "['is', 'a', 'are', 'a']\n",
      "Let us use lambda to filter words with vowels \n",
      "['is', 'a', 'are', 'a']\n",
      "\n"
     ]
    }
   ],
   "source": [
    "in_list\n",
    "print(\"Let us use list comprehension to filter words with vowels\")\n",
    "print([word for word in in_list if word[0] in \"aeiou\"])\n",
    "print('Let us use function to filter words with vowels ')\n",
    "out_list = []\n",
    "for w in in_list:\n",
    "    if filter_word(w):\n",
    "        out_list.append(w)\n",
    "print(out_list)\n",
    "print('Let us use lambda to filter words with vowels ')\n",
    "filter_word = lambda word:word[0].lower() in 'aeiou'\n",
    "print(list(filter(filter_word, in_list)))\n"
   ]
  },
  {
   "cell_type": "code",
   "execution_count": 67,
   "metadata": {},
   "outputs": [],
   "source": [
    "#Reduce demo"
   ]
  },
  {
   "cell_type": "code",
   "execution_count": 68,
   "metadata": {},
   "outputs": [],
   "source": [
    "def derive_sum(a,b):\n",
    "    return a+b"
   ]
  },
  {
   "cell_type": "code",
   "execution_count": 78,
   "metadata": {},
   "outputs": [
    {
     "data": {
      "text/plain": [
       "10"
      ]
     },
     "execution_count": 78,
     "metadata": {},
     "output_type": "execute_result"
    }
   ],
   "source": [
    "list1 = [1,2,3,4]\n",
    "out_value = 0\n",
    "for val in list1:\n",
    "    out_value = derive_sum(out_value,val)\n",
    "out_value"
   ]
  },
  {
   "cell_type": "code",
   "execution_count": 79,
   "metadata": {},
   "outputs": [
    {
     "data": {
      "text/plain": [
       "10"
      ]
     },
     "execution_count": 79,
     "metadata": {},
     "output_type": "execute_result"
    }
   ],
   "source": [
    "from functools import reduce\n",
    "reduce(derive_sum,list1)"
   ]
  },
  {
   "cell_type": "code",
   "execution_count": 81,
   "metadata": {},
   "outputs": [],
   "source": [
    "l = [1,1,1,1,1,1,1,1]"
   ]
  },
  {
   "cell_type": "code",
   "execution_count": 83,
   "metadata": {},
   "outputs": [
    {
     "data": {
      "text/plain": [
       "1"
      ]
     },
     "execution_count": 83,
     "metadata": {},
     "output_type": "execute_result"
    }
   ],
   "source": [
    "len(set(l))"
   ]
  }
 ],
 "metadata": {
  "kernelspec": {
   "display_name": "Python 3",
   "language": "python",
   "name": "python3"
  },
  "language_info": {
   "codemirror_mode": {
    "name": "ipython",
    "version": 3
   },
   "file_extension": ".py",
   "mimetype": "text/x-python",
   "name": "python",
   "nbconvert_exporter": "python",
   "pygments_lexer": "ipython3",
   "version": "3.6.4"
  }
 },
 "nbformat": 4,
 "nbformat_minor": 2
}
