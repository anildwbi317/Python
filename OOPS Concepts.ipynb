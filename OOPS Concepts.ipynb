{
 "cells": [
  {
   "cell_type": "code",
   "execution_count": 289,
   "metadata": {},
   "outputs": [],
   "source": [
    "# Oops \n",
    "# datetime\n",
    "# regular expression\n",
    "# decorators\n",
    "# Unit testing\n",
    "# timeit\n",
    "# collections "
   ]
  },
  {
   "cell_type": "code",
   "execution_count": 430,
   "metadata": {},
   "outputs": [
    {
     "name": "stdout",
     "output_type": "stream",
     "text": [
      "<class 'list'> <class 'int'> <class 'str'> <class 'dict'> <class 'tuple'>\n"
     ]
    }
   ],
   "source": [
    "#classes\n",
    "l = []\n",
    "i =1\n",
    "a = \"a\"\n",
    "d = {}\n",
    "t = ()\n",
    "\n",
    "print(type(l), type(i),type(a),type(d),type(t))"
   ]
  },
  {
   "cell_type": "code",
   "execution_count": 431,
   "metadata": {},
   "outputs": [],
   "source": [
    "class MyClass:\n",
    "    \"This is my first class object\"\n",
    "    pass\n"
   ]
  },
  {
   "cell_type": "code",
   "execution_count": 432,
   "metadata": {},
   "outputs": [],
   "source": [
    "obj_myclass = MyClass()"
   ]
  },
  {
   "cell_type": "code",
   "execution_count": 433,
   "metadata": {},
   "outputs": [],
   "source": [
    "class MyClassDemo:\n",
    "    #  Every class has attributes and methods\n",
    "    def __init__(self):\n",
    "        print(\"I am called automatically\")\n",
    "    \n",
    "    def my_own_func():\n",
    "        print(\"I should be called with an instance\")\n",
    "    "
   ]
  },
  {
   "cell_type": "code",
   "execution_count": 42,
   "metadata": {},
   "outputs": [],
   "source": [
    "class MyClassDemo1:\n",
    "    def __init__(self,a,b):\n",
    "        self.a = a\n",
    "        self.b =b\n",
    "    def sum_values(self):\n",
    "        return self.a + self.b\n",
    "    def print_res(self):\n",
    "        print(\"{} + {} = {}\".format(self.a, self.b, self.sum_values()))"
   ]
  },
  {
   "cell_type": "code",
   "execution_count": 52,
   "metadata": {},
   "outputs": [],
   "source": [
    "class MyClassDemo2:\n",
    "    def __init__(self):\n",
    "        pass\n",
    "    def sum_values(self,a,b):\n",
    "        return a + b\n",
    "    def print_values(self):\n",
    "        print(\"SUM:{}\".format(self.sum_values(10,20)))\n",
    "    "
   ]
  },
  {
   "cell_type": "code",
   "execution_count": 67,
   "metadata": {},
   "outputs": [],
   "source": [
    "class Employee:\n",
    "    employee_count = 0\n",
    "    company_name = \"ADP\"\n",
    "    def __init__(self, name, exp):\n",
    "        Employee.employee_count += 1\n",
    "        self.name = name\n",
    "        self.exp = exp\n",
    "    \n",
    "    def display(self):\n",
    "        return(\"Name:{},Exp:{}\".format(self.name, self.exp))\n",
    "    \n",
    "    def headcount(self):\n",
    "        \n",
    "        return(Employee.employee_count,Employee.company_name)"
   ]
  },
  {
   "cell_type": "code",
   "execution_count": 68,
   "metadata": {},
   "outputs": [
    {
     "name": "stdout",
     "output_type": "stream",
     "text": [
      "Name:Anil,Exp:10\n",
      "(1, 'ADP')\n"
     ]
    }
   ],
   "source": [
    "e1 = Employee('Anil',10)\n",
    "print(e1.display())\n",
    "print(e1.headcount())"
   ]
  },
  {
   "cell_type": "code",
   "execution_count": 71,
   "metadata": {},
   "outputs": [
    {
     "name": "stdout",
     "output_type": "stream",
     "text": [
      "Name:Lina,Exp:5\n",
      "(4, 'ADP')\n"
     ]
    }
   ],
   "source": [
    "e2 = Employee('Lina',5)\n",
    "print(e2.display())\n",
    "print(e2.headcount())"
   ]
  },
  {
   "cell_type": "code",
   "execution_count": 84,
   "metadata": {},
   "outputs": [],
   "source": [
    "class StaticMethodDemo():\n",
    "    @staticmethod\n",
    "    def myfunc(x,y):\n",
    "        return x+y"
   ]
  },
  {
   "cell_type": "code",
   "execution_count": 81,
   "metadata": {},
   "outputs": [],
   "source": [
    " StaticMethodDemo.myfunc = staticmethod(StaticMethodDemo.myfunc)    "
   ]
  },
  {
   "cell_type": "code",
   "execution_count": 83,
   "metadata": {},
   "outputs": [
    {
     "data": {
      "text/plain": [
       "30"
      ]
     },
     "execution_count": 83,
     "metadata": {},
     "output_type": "execute_result"
    }
   ],
   "source": [
    "StaticMethodDemo.myfunc(10,20)"
   ]
  },
  {
   "cell_type": "code",
   "execution_count": 86,
   "metadata": {},
   "outputs": [
    {
     "data": {
      "text/plain": [
       "30"
      ]
     },
     "execution_count": 86,
     "metadata": {},
     "output_type": "execute_result"
    }
   ],
   "source": [
    "StaticMethodDemo.myfunc(10,20)"
   ]
  },
  {
   "cell_type": "code",
   "execution_count": 94,
   "metadata": {},
   "outputs": [],
   "source": [
    "class Person:\n",
    "    def __init__(self, name, age):\n",
    "        self.name = name\n",
    "        self.age = age\n",
    "        \n",
    "    @staticmethod\n",
    "    def is_Major(age):\n",
    "        return age > 18\n",
    "    \n",
    "    @classmethod\n",
    "    def fromBirthYear(cls, name, year):\n",
    "        return cls(name, 2019-year)\n",
    "    \n",
    "    "
   ]
  },
  {
   "cell_type": "code",
   "execution_count": 95,
   "metadata": {},
   "outputs": [],
   "source": [
    "obj = Person(\"ABC\",20)"
   ]
  },
  {
   "cell_type": "code",
   "execution_count": 106,
   "metadata": {},
   "outputs": [
    {
     "data": {
      "text/plain": [
       "['__class__',\n",
       " '__delattr__',\n",
       " '__dict__',\n",
       " '__dir__',\n",
       " '__doc__',\n",
       " '__eq__',\n",
       " '__format__',\n",
       " '__ge__',\n",
       " '__getattribute__',\n",
       " '__gt__',\n",
       " '__hash__',\n",
       " '__init__',\n",
       " '__init_subclass__',\n",
       " '__le__',\n",
       " '__lt__',\n",
       " '__module__',\n",
       " '__ne__',\n",
       " '__new__',\n",
       " '__reduce__',\n",
       " '__reduce_ex__',\n",
       " '__repr__',\n",
       " '__setattr__',\n",
       " '__sizeof__',\n",
       " '__str__',\n",
       " '__subclasshook__',\n",
       " '__weakref__',\n",
       " 'age',\n",
       " 'fromBirthYear',\n",
       " 'is_Major',\n",
       " 'name']"
      ]
     },
     "execution_count": 106,
     "metadata": {},
     "output_type": "execute_result"
    }
   ],
   "source": [
    "dir(obj)"
   ]
  },
  {
   "cell_type": "code",
   "execution_count": 102,
   "metadata": {},
   "outputs": [],
   "source": [
    "obj = Person.fromBirthYear(\"ABC\",1990)"
   ]
  },
  {
   "cell_type": "code",
   "execution_count": 125,
   "metadata": {},
   "outputs": [],
   "source": [
    "# special methods\n",
    "\n",
    "class MySplMethodDemo:\n",
    "    def __init__(self,a,b):\n",
    "        self.a = a \n",
    "        self.b = b\n",
    "    def __str__(self):\n",
    "        return(\"This class has inputs {} and {} and doing nothing\".format(self.a, self.b))\n",
    "    def __len__(self):\n",
    "        return 100\n",
    "    def __del__(self):\n",
    "        print(\"This got destroyed\")\n",
    "    "
   ]
  },
  {
   "cell_type": "code",
   "execution_count": 128,
   "metadata": {},
   "outputs": [
    {
     "name": "stdout",
     "output_type": "stream",
     "text": [
      "This got destroyed\n",
      "This class has inputs 10 and 20 and doing nothing\n",
      "100\n"
     ]
    }
   ],
   "source": [
    "smd = MySplMethodDemo(10,20)\n",
    "print(smd)\n",
    "print(len(smd))"
   ]
  },
  {
   "cell_type": "code",
   "execution_count": 154,
   "metadata": {},
   "outputs": [],
   "source": [
    "# Inheritance\n",
    "\n",
    "class BaseClass:\n",
    "    def __init__(self,msg):\n",
    "        print(\"I am base class constructor\")\n",
    "        self.msg = msg\n",
    "    def whoAmI(self):\n",
    "        print(\"msg:{}\".format(self.msg))"
   ]
  },
  {
   "cell_type": "code",
   "execution_count": 155,
   "metadata": {},
   "outputs": [],
   "source": [
    "class ChildClass(BaseClass):\n",
    "    def __init__(self,msg):\n",
    "        BaseClass.__init__(self,msg)\n",
    "        print(\"I am child class constructor\")\n",
    "    def displayme(self):\n",
    "        print(\"{}\".format(self.msg))"
   ]
  },
  {
   "cell_type": "code",
   "execution_count": 156,
   "metadata": {},
   "outputs": [
    {
     "name": "stdout",
     "output_type": "stream",
     "text": [
      "I am base class constructor\n",
      "msg:parent\n"
     ]
    }
   ],
   "source": [
    "a = BaseClass('parent')\n",
    "a.whoAmI()"
   ]
  },
  {
   "cell_type": "code",
   "execution_count": 158,
   "metadata": {},
   "outputs": [
    {
     "name": "stdout",
     "output_type": "stream",
     "text": [
      "I am base class constructor\n",
      "I am child class constructor\n",
      "msg:Child\n",
      "Child\n"
     ]
    }
   ],
   "source": [
    "b = ChildClass('Child')\n",
    "b.whoAmI()\n",
    "b.displayme()"
   ]
  },
  {
   "cell_type": "code",
   "execution_count": 160,
   "metadata": {},
   "outputs": [],
   "source": [
    "#multi-level inheritance\n",
    "\n",
    "class A:\n",
    "    pass\n",
    "\n",
    "class B(A):\n",
    "    pass\n",
    "\n",
    "class C(B):\n",
    "    pass"
   ]
  },
  {
   "cell_type": "code",
   "execution_count": 162,
   "metadata": {},
   "outputs": [],
   "source": [
    "# multiple inheritance\n",
    "\n",
    "class A:\n",
    "    pass\n",
    "\n",
    "class B:\n",
    "    pass\n",
    "\n",
    "class C(A,B):\n",
    "    pass"
   ]
  },
  {
   "cell_type": "code",
   "execution_count": 417,
   "metadata": {},
   "outputs": [],
   "source": [
    "#abstract classes \n",
    "from abc import ABC, abstractmethod\n",
    "\n",
    "class DemoAbstractClass(ABC):\n",
    "    def __init__(self,value):\n",
    "        self.value = value\n",
    "    \n",
    "    @abstractmethod\n",
    "    def do_task(self):\n",
    "        pass"
   ]
  },
  {
   "cell_type": "code",
   "execution_count": 418,
   "metadata": {},
   "outputs": [],
   "source": [
    "class ImplAbs(DemoAbstractClass):\n",
    "    def do_task(self):\n",
    "        print(self.value)"
   ]
  },
  {
   "cell_type": "code",
   "execution_count": 419,
   "metadata": {},
   "outputs": [],
   "source": [
    "class ImplAbs1(DemoAbstractClass):\n",
    "    def do_task(self):\n",
    "        print(self.value + 100)"
   ]
  },
  {
   "cell_type": "code",
   "execution_count": 420,
   "metadata": {
    "scrolled": true
   },
   "outputs": [
    {
     "name": "stdout",
     "output_type": "stream",
     "text": [
      "10\n",
      "100\n"
     ]
    }
   ],
   "source": [
    "obj = ImplAbs(10)\n",
    "obj1 = ImplAbs(100)\n",
    "obj.do_task()\n",
    "obj1.do_task()"
   ]
  },
  {
   "cell_type": "code",
   "execution_count": 203,
   "metadata": {},
   "outputs": [],
   "source": [
    "class Manager:\n",
    "    def whoAmI(self):\n",
    "        return \"Manager\"\n",
    "    \n",
    "class Associate:\n",
    "    def whoAmI(self):\n",
    "        return \"Associate\"\n",
    "class HR:\n",
    "    def whoAmI(self):\n",
    "        return \"HR\"\n",
    "\n",
    " "
   ]
  },
  {
   "cell_type": "code",
   "execution_count": 205,
   "metadata": {},
   "outputs": [],
   "source": [
    "m = Manager()\n",
    "a = Associate()\n",
    "h = HR()"
   ]
  },
  {
   "cell_type": "code",
   "execution_count": 208,
   "metadata": {},
   "outputs": [
    {
     "name": "stdout",
     "output_type": "stream",
     "text": [
      "Manager\n",
      "Associate\n",
      "HR\n"
     ]
    }
   ],
   "source": [
    "for objs in [m,a,h]:\n",
    "    print(objs.whoAmI())"
   ]
  },
  {
   "cell_type": "code",
   "execution_count": 211,
   "metadata": {},
   "outputs": [],
   "source": [
    "import datetime as dt"
   ]
  },
  {
   "cell_type": "code",
   "execution_count": 228,
   "metadata": {},
   "outputs": [],
   "source": [
    "x = dt.datetime.now()"
   ]
  },
  {
   "cell_type": "code",
   "execution_count": 235,
   "metadata": {},
   "outputs": [],
   "source": [
    "x = dt.datetime(2018,10,12)"
   ]
  },
  {
   "cell_type": "code",
   "execution_count": 241,
   "metadata": {},
   "outputs": [],
   "source": [
    "st = '20190101'"
   ]
  },
  {
   "cell_type": "code",
   "execution_count": 244,
   "metadata": {},
   "outputs": [],
   "source": [
    "dt_obj =dt.datetime.strptime(st, '%Y%m%d')"
   ]
  },
  {
   "cell_type": "code",
   "execution_count": 249,
   "metadata": {},
   "outputs": [
    {
     "data": {
      "text/plain": [
       "'2019'"
      ]
     },
     "execution_count": 249,
     "metadata": {},
     "output_type": "execute_result"
    }
   ],
   "source": [
    "dt_obj.strftime('%Y')"
   ]
  },
  {
   "cell_type": "markdown",
   "metadata": {},
   "source": [
    "# Regular Expression\n",
    "import re\n",
    "match     Match a regular expression pattern to the beginning of a string.\n",
    "        fullmatch Match a regular expression pattern to all of a string.\n",
    "        search    Search a string for the presence of a pattern.\n",
    "        sub       Substitute occurrences of a pattern found in a string.\n",
    "        subn      Same as sub, but also return the number of substitutions made.\n",
    "        split     Split a string by the occurrences of a pattern.\n",
    "        findall   Find all occurrences of a pattern in a string.\n",
    "        finditer  Return an iterator yielding a match object for each match.\n",
    "        compile   Compile a pattern into a RegexObject.\n",
    "        purge     Clear the regular expression cache.\n",
    "        escape    Backslash all non-alphanumerics in a string.\n",
    "    \n"
   ]
  },
  {
   "cell_type": "code",
   "execution_count": 290,
   "metadata": {},
   "outputs": [
    {
     "name": "stdout",
     "output_type": "stream",
     "text": [
      "<_sre.SRE_Match object; span=(4, 39), match='This is a string 1000 used for demo'>\n",
      "<_sre.SRE_Match object; span=(0, 39), match='----This is a string 1000 used for demo'>\n"
     ]
    },
    {
     "data": {
      "text/plain": [
       "['This', 'This', 'To']"
      ]
     },
     "execution_count": 290,
     "metadata": {},
     "output_type": "execute_result"
    }
   ],
   "source": [
    "#help(re.search)\n",
    "\n",
    "st = \"----This is a string 1000 used for demo,hope This makes sense To understand re much better----\"\n",
    "\n",
    "print(re.search(\"[A-Za-z ]+[0-9]+[a-zA-Z ]+\",st))\n",
    "\n",
    "print(re.match(\"[-A-Za-z ]+[0-9]+[a-zA-Z- ]+\",st))\n",
    "\n",
    "re.split(\" [0-9]\",st)\n",
    "\n",
    "re.findall('T[a-z]+', st)\n",
    "#help(re.match)"
   ]
  },
  {
   "cell_type": "code",
   "execution_count": 350,
   "metadata": {},
   "outputs": [],
   "source": [
    "@my_test_sum\n",
    "def sum(a,b):\n",
    "    return (a+b)"
   ]
  },
  {
   "cell_type": "code",
   "execution_count": 353,
   "metadata": {},
   "outputs": [],
   "source": [
    "def my_test_sum(func):\n",
    "    def new_sum_func(a,b):\n",
    "        x = func(a,b) + 30\n",
    "        print(x)\n",
    "    return new_sum_func"
   ]
  },
  {
   "cell_type": "code",
   "execution_count": 360,
   "metadata": {},
   "outputs": [],
   "source": [
    "import collections"
   ]
  },
  {
   "cell_type": "code",
   "execution_count": 366,
   "metadata": {},
   "outputs": [
    {
     "data": {
      "text/plain": [
       "[('a', 5), ('b', 2)]"
      ]
     },
     "execution_count": 366,
     "metadata": {},
     "output_type": "execute_result"
    }
   ],
   "source": [
    "collections.Counter('abracadabra').most_common(2)"
   ]
  },
  {
   "cell_type": "code",
   "execution_count": 367,
   "metadata": {},
   "outputs": [],
   "source": [
    "s = [('yellow', 1), ('blue', 2), ('yellow', 3), ('blue', 4), ('red', 1)]"
   ]
  },
  {
   "cell_type": "code",
   "execution_count": 376,
   "metadata": {},
   "outputs": [],
   "source": [
    "d = collections.defaultdict(list)"
   ]
  },
  {
   "cell_type": "code",
   "execution_count": 386,
   "metadata": {},
   "outputs": [
    {
     "data": {
      "text/plain": [
       "dict_items([('yellow', [1, 3]), ('blue', [2, 4]), ('red', [1])])"
      ]
     },
     "execution_count": 386,
     "metadata": {},
     "output_type": "execute_result"
    }
   ],
   "source": [
    "d = collections.defaultdict(list)\n",
    "for k,v in s:\n",
    "    d[k].append(v)\n",
    "d.items()"
   ]
  },
  {
   "cell_type": "code",
   "execution_count": 395,
   "metadata": {},
   "outputs": [],
   "source": [
    "norm_d = {}"
   ]
  },
  {
   "cell_type": "code",
   "execution_count": 396,
   "metadata": {},
   "outputs": [],
   "source": [
    "norm_d[\"a\"]= 1\n",
    "norm_d[\"x\"]=2\n",
    "norm_d[\"l\"]=3\n",
    "norm_d[\"y\"]=4"
   ]
  },
  {
   "cell_type": "code",
   "execution_count": 393,
   "metadata": {},
   "outputs": [],
   "source": []
  },
  {
   "cell_type": "code",
   "execution_count": 398,
   "metadata": {},
   "outputs": [
    {
     "data": {
      "text/plain": [
       "{'a': 1, 'l': 3, 'x': 2, 'y': 4}"
      ]
     },
     "execution_count": 398,
     "metadata": {},
     "output_type": "execute_result"
    }
   ],
   "source": [
    "norm_d"
   ]
  },
  {
   "cell_type": "code",
   "execution_count": 401,
   "metadata": {},
   "outputs": [],
   "source": [
    "x = collections.OrderedDict(norm_d)"
   ]
  },
  {
   "cell_type": "code",
   "execution_count": 404,
   "metadata": {},
   "outputs": [
    {
     "data": {
      "text/plain": [
       "odict_items([('a', 1), ('x', 2), ('l', 3), ('y', 4)])"
      ]
     },
     "execution_count": 404,
     "metadata": {},
     "output_type": "execute_result"
    }
   ],
   "source": [
    "x.items()"
   ]
  }
 ],
 "metadata": {
  "kernelspec": {
   "display_name": "Python 3",
   "language": "python",
   "name": "python3"
  },
  "language_info": {
   "codemirror_mode": {
    "name": "ipython",
    "version": 3
   },
   "file_extension": ".py",
   "mimetype": "text/x-python",
   "name": "python",
   "nbconvert_exporter": "python",
   "pygments_lexer": "ipython3",
   "version": "3.6.4"
  }
 },
 "nbformat": 4,
 "nbformat_minor": 2
}
